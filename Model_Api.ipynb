{
 "cells": [
  {
   "cell_type": "code",
   "execution_count": 1,
   "metadata": {},
   "outputs": [],
   "source": [
    "import requests\n",
    "import json\n",
    "import os"
   ]
  },
  {
   "cell_type": "code",
   "execution_count": 4,
   "metadata": {},
   "outputs": [
    {
     "name": "stdout",
     "output_type": "stream",
     "text": [
      "{\"Review Score\":4}\n",
      "\n"
     ]
    }
   ],
   "source": [
    "# Define the URL for the API endpoint\n",
    "url = 'http://0.0.0.0:5001/get-review-score'\n",
    "\n",
    "# Create a JSON payload with the review text\n",
    "payload = json.dumps({\n",
    "  \"review\": \"Overall it's really an amazing app. I've been using this for the past 5 years, however, I only have one issue though and I wanted this to get addressed since I think this issue had lasted for how many years? The texts were blurred, and when you zoom it out, it's pixelated. I thought this issue only occurs on mobile apps; however, it was also present on the website. Please fix this. I still remember the time when I can export high-definition texts, and I love that experience. Thank you!\"\n",
    "})\n",
    "\n",
    "# Define the request headers to specify the content type as JSON\n",
    "headers = {\n",
    "  'Content-Type': 'application/json'\n",
    "}\n",
    "\n",
    "# Send an HTTP POST request to the API with the specified URL, headers, and payload\n",
    "response = requests.request(\"POST\", url, headers=headers, data=payload)\n",
    "\n",
    "# Print the JSON response received from the API\n",
    "print(response.text)\n"
   ]
  },
  {
   "cell_type": "markdown",
   "metadata": {},
   "source": [
    "---"
   ]
  },
  {
   "cell_type": "code",
   "execution_count": null,
   "metadata": {},
   "outputs": [],
   "source": []
  }
 ],
 "metadata": {
  "kernelspec": {
   "display_name": "Python 3",
   "language": "python",
   "name": "python3"
  },
  "language_info": {
   "codemirror_mode": {
    "name": "ipython",
    "version": 3
   },
   "file_extension": ".py",
   "mimetype": "text/x-python",
   "name": "python",
   "nbconvert_exporter": "python",
   "pygments_lexer": "ipython3",
   "version": "3.8.8"
  }
 },
 "nbformat": 4,
 "nbformat_minor": 4
}
